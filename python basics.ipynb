{
 "cells": [
  {
   "cell_type": "markdown",
   "id": "87ea0e75",
   "metadata": {},
   "source": [
    "# Python Basics\n",
    "\n",
    "### 1.variables"
   ]
  },
  {
   "cell_type": "code",
   "execution_count": 6,
   "id": "4f63aa6f",
   "metadata": {},
   "outputs": [],
   "source": [
    "demo = 'dhanush' #declared a variable and assigned my name to it"
   ]
  },
  {
   "cell_type": "code",
   "execution_count": 7,
   "id": "b5071e0a",
   "metadata": {},
   "outputs": [
    {
     "name": "stdout",
     "output_type": "stream",
     "text": [
      "dhanush\n"
     ]
    }
   ],
   "source": [
    "print(demo)"
   ]
  },
  {
   "cell_type": "code",
   "execution_count": 8,
   "id": "ffd1e599",
   "metadata": {},
   "outputs": [
    {
     "data": {
      "text/plain": [
       "str"
      ]
     },
     "execution_count": 8,
     "metadata": {},
     "output_type": "execute_result"
    }
   ],
   "source": [
    "type(demo)"
   ]
  },
  {
   "cell_type": "code",
   "execution_count": 5,
   "id": "d51599e4",
   "metadata": {},
   "outputs": [
    {
     "name": "stdout",
     "output_type": "stream",
     "text": [
      "3.5\n"
     ]
    },
    {
     "data": {
      "text/plain": [
       "float"
      ]
     },
     "execution_count": 5,
     "metadata": {},
     "output_type": "execute_result"
    }
   ],
   "source": [
    "demo2 = 3.5 #floating point type variable\n",
    "print(demo2)\n",
    "type(demo2)"
   ]
  },
  {
   "cell_type": "markdown",
   "id": "19150d8c",
   "metadata": {},
   "source": [
    "### 2.Datatypes"
   ]
  },
  {
   "cell_type": "markdown",
   "id": "b947ee94",
   "metadata": {},
   "source": [
    "same as c/c++ (integer, string, float, bool) <br>\n",
    "list variables, tuple, set and dictionary are extra"
   ]
  },
  {
   "cell_type": "markdown",
   "id": "9249d200",
   "metadata": {},
   "source": [
    "#### list"
   ]
  },
  {
   "cell_type": "code",
   "execution_count": 9,
   "id": "08fa07b2",
   "metadata": {},
   "outputs": [
    {
     "data": {
      "text/plain": [
       "[1, 2, 3, 4, 5]"
      ]
     },
     "execution_count": 9,
     "metadata": {},
     "output_type": "execute_result"
    }
   ],
   "source": [
    "list_var = [1,2,3,4,5, 5, 5, 5]\n",
    "list_var"
   ]
  },
  {
   "cell_type": "code",
   "execution_count": 16,
   "id": "bcc5f53d",
   "metadata": {},
   "outputs": [
    {
     "data": {
      "text/plain": [
       "[1, 2, 3, 4, 10]"
      ]
     },
     "execution_count": 16,
     "metadata": {},
     "output_type": "execute_result"
    }
   ],
   "source": [
    "list_var[4]= 10 #updating value of list\n",
    "list_var"
   ]
  },
  {
   "cell_type": "markdown",
   "id": "50b1d8a6",
   "metadata": {},
   "source": [
    "#### tuple [Immutable]\n",
    "cannot change values in tuple"
   ]
  },
  {
   "cell_type": "code",
   "execution_count": 14,
   "id": "6246bda0",
   "metadata": {},
   "outputs": [
    {
     "data": {
      "text/plain": [
       "(1, 2, 3, 4, 5)"
      ]
     },
     "execution_count": 14,
     "metadata": {},
     "output_type": "execute_result"
    }
   ],
   "source": [
    "tuple_var = (1,2,3,4,5)\n",
    "tuple_var"
   ]
  },
  {
   "cell_type": "code",
   "execution_count": 13,
   "id": "02154709",
   "metadata": {},
   "outputs": [
    {
     "data": {
      "text/plain": [
       "tuple"
      ]
     },
     "execution_count": 13,
     "metadata": {},
     "output_type": "execute_result"
    }
   ],
   "source": [
    "type(tuple_var)"
   ]
  },
  {
   "cell_type": "markdown",
   "id": "13b0b6b3",
   "metadata": {},
   "source": [
    "#### set [values cannot be changed - Immutable]"
   ]
  },
  {
   "cell_type": "code",
   "execution_count": 21,
   "id": "2a093e70",
   "metadata": {},
   "outputs": [
    {
     "data": {
      "text/plain": [
       "{1, 2, 3, 4, 5}"
      ]
     },
     "execution_count": 21,
     "metadata": {},
     "output_type": "execute_result"
    }
   ],
   "source": [
    "set_var = {1, 2, 3, 4, 5, 2, 3}\n",
    "set_var #duplicates are not stored"
   ]
  },
  {
   "cell_type": "code",
   "execution_count": 23,
   "id": "cd35df65",
   "metadata": {},
   "outputs": [
    {
     "data": {
      "text/plain": [
       "[1, 2, 3, 4, 10]"
      ]
     },
     "execution_count": 23,
     "metadata": {},
     "output_type": "execute_result"
    }
   ],
   "source": [
    "# typecasting the list variable to set and back to list inorder to get rid of duplicates\n",
    "list(set(list_var))\n",
    "list_var #tobe noted all dupicate elements are rmoved completely"
   ]
  },
  {
   "cell_type": "markdown",
   "id": "dc27c6c4",
   "metadata": {},
   "source": [
    "#### dictionary"
   ]
  },
  {
   "cell_type": "code",
   "execution_count": 24,
   "id": "cd584df0",
   "metadata": {},
   "outputs": [
    {
     "data": {
      "text/plain": [
       "{'name': 'dhanush', 'age': 18}"
      ]
     },
     "execution_count": 24,
     "metadata": {},
     "output_type": "execute_result"
    }
   ],
   "source": [
    "dict_var = {'name': 'dhanush', 'age': 18}\n",
    "dict_var"
   ]
  },
  {
   "cell_type": "code",
   "execution_count": 26,
   "id": "d396d313",
   "metadata": {},
   "outputs": [
    {
     "data": {
      "text/plain": [
       "'dhanush'"
      ]
     },
     "execution_count": 26,
     "metadata": {},
     "output_type": "execute_result"
    }
   ],
   "source": [
    "dict_var['name']"
   ]
  },
  {
   "cell_type": "code",
   "execution_count": 27,
   "id": "26f41587",
   "metadata": {},
   "outputs": [
    {
     "data": {
      "text/plain": [
       "18"
      ]
     },
     "execution_count": 27,
     "metadata": {},
     "output_type": "execute_result"
    }
   ],
   "source": [
    "dict_var['age']"
   ]
  },
  {
   "cell_type": "markdown",
   "id": "50b63d1a",
   "metadata": {},
   "source": [
    "## 3. Lists (CRUD)"
   ]
  },
  {
   "cell_type": "code",
   "execution_count": 30,
   "id": "b7bb2b1f",
   "metadata": {},
   "outputs": [
    {
     "data": {
      "text/plain": [
       "['abc', 'def', 'ghi', 'dhanush']"
      ]
     },
     "execution_count": 30,
     "metadata": {},
     "output_type": "execute_result"
    }
   ],
   "source": [
    "#create\n",
    "names = ['abc', 'def', 'ghi', 'dhanush']\n",
    "names"
   ]
  },
  {
   "cell_type": "code",
   "execution_count": 35,
   "id": "a68da53b",
   "metadata": {},
   "outputs": [
    {
     "data": {
      "text/plain": [
       "4"
      ]
     },
     "execution_count": 35,
     "metadata": {},
     "output_type": "execute_result"
    }
   ],
   "source": [
    "#read\n",
    "names[0] #indexing\n",
    "names[-1] #last element in list\n",
    "len(names) # length of list"
   ]
  },
  {
   "cell_type": "code",
   "execution_count": 39,
   "id": "ebebd6bc",
   "metadata": {},
   "outputs": [
    {
     "data": {
      "text/plain": [
       "['abc',\n",
       " '4554',\n",
       " '4554',\n",
       " 'elon musk',\n",
       " 'elon musk',\n",
       " 'dhanush',\n",
       " 'jeff bezos',\n",
       " 'jeff bezos',\n",
       " 'jeff bezos']"
      ]
     },
     "execution_count": 39,
     "metadata": {},
     "output_type": "execute_result"
    }
   ],
   "source": [
    "#update\n",
    "names[2] = 'elon musk'\n",
    "\n",
    "#append\n",
    "names.append('jeff bezos')\n",
    "\n",
    "#insert\n",
    "names.insert(1,'4554')\n",
    "names"
   ]
  },
  {
   "cell_type": "code",
   "execution_count": 40,
   "id": "e1b5356b",
   "metadata": {},
   "outputs": [],
   "source": [
    "#delete\n",
    "del names[-1]\n",
    "del names[-2]\n",
    "del names[1]"
   ]
  },
  {
   "cell_type": "code",
   "execution_count": 41,
   "id": "4fd665b8",
   "metadata": {},
   "outputs": [
    {
     "data": {
      "text/plain": [
       "['abc', '4554', 'elon musk', 'elon musk', 'dhanush', 'jeff bezos']"
      ]
     },
     "execution_count": 41,
     "metadata": {},
     "output_type": "execute_result"
    }
   ],
   "source": [
    "names"
   ]
  },
  {
   "cell_type": "code",
   "execution_count": null,
   "id": "fc03cbed",
   "metadata": {},
   "outputs": [],
   "source": []
  }
 ],
 "metadata": {
  "kernelspec": {
   "display_name": "Python 3 (ipykernel)",
   "language": "python",
   "name": "python3"
  },
  "language_info": {
   "codemirror_mode": {
    "name": "ipython",
    "version": 3
   },
   "file_extension": ".py",
   "mimetype": "text/x-python",
   "name": "python",
   "nbconvert_exporter": "python",
   "pygments_lexer": "ipython3",
   "version": "3.11.5"
  }
 },
 "nbformat": 4,
 "nbformat_minor": 5
}
