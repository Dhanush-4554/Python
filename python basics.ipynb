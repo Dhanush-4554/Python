{
 "cells": [
  {
   "cell_type": "markdown",
   "id": "87ea0e75",
   "metadata": {},
   "source": [
    "# Python Basics\n",
    "\n",
    "### 1.variables"
   ]
  },
  {
   "cell_type": "code",
   "execution_count": 6,
   "id": "4f63aa6f",
   "metadata": {},
   "outputs": [],
   "source": [
    "demo = 'dhanush' #declared a variable and assigned my name to it"
   ]
  },
  {
   "cell_type": "code",
   "execution_count": 7,
   "id": "b5071e0a",
   "metadata": {},
   "outputs": [
    {
     "name": "stdout",
     "output_type": "stream",
     "text": [
      "dhanush\n"
     ]
    }
   ],
   "source": [
    "print(demo)"
   ]
  },
  {
   "cell_type": "code",
   "execution_count": 8,
   "id": "ffd1e599",
   "metadata": {},
   "outputs": [
    {
     "data": {
      "text/plain": [
       "str"
      ]
     },
     "execution_count": 8,
     "metadata": {},
     "output_type": "execute_result"
    }
   ],
   "source": [
    "type(demo)"
   ]
  },
  {
   "cell_type": "code",
   "execution_count": 5,
   "id": "d51599e4",
   "metadata": {},
   "outputs": [
    {
     "name": "stdout",
     "output_type": "stream",
     "text": [
      "3.5\n"
     ]
    },
    {
     "data": {
      "text/plain": [
       "float"
      ]
     },
     "execution_count": 5,
     "metadata": {},
     "output_type": "execute_result"
    }
   ],
   "source": [
    "demo2 = 3.5 #floating point type variable\n",
    "print(demo2)\n",
    "type(demo2)"
   ]
  },
  {
   "cell_type": "markdown",
   "id": "19150d8c",
   "metadata": {},
   "source": [
    "### 2.Datatypes"
   ]
  },
  {
   "cell_type": "markdown",
   "id": "b947ee94",
   "metadata": {},
   "source": [
    "same as c/c++ (integer, string, float, bool) <br>\n",
    "list variables, tuple, set and dictionary are extra"
   ]
  },
  {
   "cell_type": "markdown",
   "id": "9249d200",
   "metadata": {},
   "source": [
    "#### list"
   ]
  },
  {
   "cell_type": "code",
   "execution_count": 9,
   "id": "08fa07b2",
   "metadata": {},
   "outputs": [
    {
     "data": {
      "text/plain": [
       "[1, 2, 3, 4, 5]"
      ]
     },
     "execution_count": 9,
     "metadata": {},
     "output_type": "execute_result"
    }
   ],
   "source": [
    "list_var = [1,2,3,4,5, 5, 5, 5]\n",
    "list_var"
   ]
  },
  {
   "cell_type": "code",
   "execution_count": 16,
   "id": "bcc5f53d",
   "metadata": {},
   "outputs": [
    {
     "data": {
      "text/plain": [
       "[1, 2, 3, 4, 10]"
      ]
     },
     "execution_count": 16,
     "metadata": {},
     "output_type": "execute_result"
    }
   ],
   "source": [
    "list_var[4]= 10 #updating value of list\n",
    "list_var"
   ]
  },
  {
   "cell_type": "markdown",
   "id": "50b1d8a6",
   "metadata": {},
   "source": [
    "#### tuple [Immutable]\n",
    "cannot change values in tuple"
   ]
  },
  {
   "cell_type": "code",
   "execution_count": 14,
   "id": "6246bda0",
   "metadata": {},
   "outputs": [
    {
     "data": {
      "text/plain": [
       "(1, 2, 3, 4, 5)"
      ]
     },
     "execution_count": 14,
     "metadata": {},
     "output_type": "execute_result"
    }
   ],
   "source": [
    "tuple_var = (1,2,3,4,5)\n",
    "tuple_var"
   ]
  },
  {
   "cell_type": "code",
   "execution_count": 13,
   "id": "02154709",
   "metadata": {},
   "outputs": [
    {
     "data": {
      "text/plain": [
       "tuple"
      ]
     },
     "execution_count": 13,
     "metadata": {},
     "output_type": "execute_result"
    }
   ],
   "source": [
    "type(tuple_var)"
   ]
  },
  {
   "cell_type": "markdown",
   "id": "13b0b6b3",
   "metadata": {},
   "source": [
    "#### set [values cannot be changed - Immutable]"
   ]
  },
  {
   "cell_type": "code",
   "execution_count": 21,
   "id": "2a093e70",
   "metadata": {},
   "outputs": [
    {
     "data": {
      "text/plain": [
       "{1, 2, 3, 4, 5}"
      ]
     },
     "execution_count": 21,
     "metadata": {},
     "output_type": "execute_result"
    }
   ],
   "source": [
    "set_var = {1, 2, 3, 4, 5, 2, 3}\n",
    "set_var #duplicates are not stored"
   ]
  },
  {
   "cell_type": "code",
   "execution_count": 23,
   "id": "cd35df65",
   "metadata": {},
   "outputs": [
    {
     "data": {
      "text/plain": [
       "[1, 2, 3, 4, 10]"
      ]
     },
     "execution_count": 23,
     "metadata": {},
     "output_type": "execute_result"
    }
   ],
   "source": [
    "# typecasting the list variable to set and back to list inorder to get rid of duplicates\n",
    "list(set(list_var))\n",
    "list_var #tobe noted all dupicate elements are rmoved completely"
   ]
  },
  {
   "cell_type": "markdown",
   "id": "dc27c6c4",
   "metadata": {},
   "source": [
    "#### dictionary"
   ]
  },
  {
   "cell_type": "code",
   "execution_count": 24,
   "id": "cd584df0",
   "metadata": {},
   "outputs": [
    {
     "data": {
      "text/plain": [
       "{'name': 'dhanush', 'age': 18}"
      ]
     },
     "execution_count": 24,
     "metadata": {},
     "output_type": "execute_result"
    }
   ],
   "source": [
    "dict_var = {'name': 'dhanush', 'age': 18}\n",
    "dict_var"
   ]
  },
  {
   "cell_type": "code",
   "execution_count": 26,
   "id": "d396d313",
   "metadata": {},
   "outputs": [
    {
     "data": {
      "text/plain": [
       "'dhanush'"
      ]
     },
     "execution_count": 26,
     "metadata": {},
     "output_type": "execute_result"
    }
   ],
   "source": [
    "dict_var['name']"
   ]
  },
  {
   "cell_type": "code",
   "execution_count": 27,
   "id": "26f41587",
   "metadata": {},
   "outputs": [
    {
     "data": {
      "text/plain": [
       "18"
      ]
     },
     "execution_count": 27,
     "metadata": {},
     "output_type": "execute_result"
    }
   ],
   "source": [
    "dict_var['age']"
   ]
  },
  {
   "cell_type": "markdown",
   "id": "50b63d1a",
   "metadata": {},
   "source": [
    "## 3. Lists (CRUD)"
   ]
  },
  {
   "cell_type": "code",
   "execution_count": 32,
   "id": "b7bb2b1f",
   "metadata": {
    "scrolled": true
   },
   "outputs": [
    {
     "data": {
      "text/plain": [
       "['abc', 'def', 'ghi', 'dhanush']"
      ]
     },
     "execution_count": 32,
     "metadata": {},
     "output_type": "execute_result"
    }
   ],
   "source": [
    "#create\n",
    "names = ['abc', 'def', 'ghi', 'dhanush']\n",
    "names"
   ]
  },
  {
   "cell_type": "code",
   "execution_count": 35,
   "id": "a68da53b",
   "metadata": {},
   "outputs": [
    {
     "data": {
      "text/plain": [
       "4"
      ]
     },
     "execution_count": 35,
     "metadata": {},
     "output_type": "execute_result"
    }
   ],
   "source": [
    "#read\n",
    "names[0] #indexing\n",
    "names[-1] #last element in list\n",
    "len(names) # length of list"
   ]
  },
  {
   "cell_type": "code",
   "execution_count": 39,
   "id": "ebebd6bc",
   "metadata": {},
   "outputs": [
    {
     "data": {
      "text/plain": [
       "['abc',\n",
       " '4554',\n",
       " '4554',\n",
       " 'elon musk',\n",
       " 'elon musk',\n",
       " 'dhanush',\n",
       " 'jeff bezos',\n",
       " 'jeff bezos',\n",
       " 'jeff bezos']"
      ]
     },
     "execution_count": 39,
     "metadata": {},
     "output_type": "execute_result"
    }
   ],
   "source": [
    "#update\n",
    "names[2] = 'elon musk'\n",
    "\n",
    "#append\n",
    "names.append('jeff bezos')\n",
    "\n",
    "#insert\n",
    "names.insert(1,'4554')\n",
    "names"
   ]
  },
  {
   "cell_type": "code",
   "execution_count": 40,
   "id": "e1b5356b",
   "metadata": {},
   "outputs": [],
   "source": [
    "#delete\n",
    "del names[-1]\n",
    "del names[-2]\n",
    "del names[1]"
   ]
  },
  {
   "cell_type": "code",
   "execution_count": 41,
   "id": "4fd665b8",
   "metadata": {},
   "outputs": [
    {
     "data": {
      "text/plain": [
       "['abc', '4554', 'elon musk', 'elon musk', 'dhanush', 'jeff bezos']"
      ]
     },
     "execution_count": 41,
     "metadata": {},
     "output_type": "execute_result"
    }
   ],
   "source": [
    "names"
   ]
  },
  {
   "cell_type": "markdown",
   "id": "9cec284c",
   "metadata": {},
   "source": [
    "## 3. Dictionaries (CRUD)"
   ]
  },
  {
   "cell_type": "code",
   "execution_count": 31,
   "id": "2a87951b",
   "metadata": {},
   "outputs": [
    {
     "data": {
      "text/plain": [
       "{'name': 'elon musk', 'suit_size': 'large', 'allergy': 'humans'}"
      ]
     },
     "execution_count": 31,
     "metadata": {},
     "output_type": "execute_result"
    }
   ],
   "source": [
    "#create\n",
    "\n",
    "astronauts = {\n",
    "    'name': 'elon musk',\n",
    "    'suit_size': 'large',\n",
    "    'allergy': 'humans'\n",
    "}\n",
    "astronauts"
   ]
  },
  {
   "cell_type": "code",
   "execution_count": 12,
   "id": "a99bb14f",
   "metadata": {},
   "outputs": [
    {
     "data": {
      "text/plain": [
       "['name', 'suit_size', 'allergy']"
      ]
     },
     "execution_count": 12,
     "metadata": {},
     "output_type": "execute_result"
    }
   ],
   "source": [
    "#read\n",
    "astronauts['name'] #get the element with key\n",
    "\n",
    "list(astronauts.keys()) #get all keys"
   ]
  },
  {
   "cell_type": "code",
   "execution_count": 23,
   "id": "88ed4471",
   "metadata": {},
   "outputs": [
    {
     "data": {
      "text/plain": [
       "{'name': 'jeff bezos',\n",
       " 'suit_size': 'large',\n",
       " 'allergy': 'humans',\n",
       " 'companion': 'noobMaster69'}"
      ]
     },
     "execution_count": 23,
     "metadata": {},
     "output_type": "execute_result"
    }
   ],
   "source": [
    "#update\n",
    "astronauts['name'] = 'jeff bezos' #changing value of key\n",
    "astronauts\n",
    "\n",
    "astronauts['companion'] = 'noobMaster69' #adding new key\n",
    "astronauts"
   ]
  },
  {
   "cell_type": "code",
   "execution_count": 24,
   "id": "a82f2a3d",
   "metadata": {},
   "outputs": [
    {
     "data": {
      "text/plain": [
       "{'name': 'jeff bezos', 'suit_size': 'large', 'allergy': 'humans'}"
      ]
     },
     "execution_count": 24,
     "metadata": {},
     "output_type": "execute_result"
    }
   ],
   "source": [
    "#delete\n",
    "\n",
    "del astronauts['companion']\n",
    "astronauts"
   ]
  },
  {
   "cell_type": "markdown",
   "id": "d6b10207",
   "metadata": {},
   "source": [
    "------------------------------------------------------------"
   ]
  },
  {
   "cell_type": "markdown",
   "id": "2422c90d",
   "metadata": {},
   "source": [
    "## 4. Conditions, Loops and Logic"
   ]
  },
  {
   "cell_type": "markdown",
   "id": "fe7da62c",
   "metadata": {},
   "source": [
    "same as c and cpp <br>if,else, elif, for-loop, while-loop "
   ]
  },
  {
   "cell_type": "code",
   "execution_count": 27,
   "id": "8bcae515",
   "metadata": {},
   "outputs": [
    {
     "name": "stdout",
     "output_type": "stream",
     "text": [
      "true\n"
     ]
    }
   ],
   "source": [
    "name = 'dhanush'\n",
    "if name == 'dhanush':\n",
    "    print('true')\n",
    "else:\n",
    "    print('false')"
   ]
  },
  {
   "cell_type": "code",
   "execution_count": 28,
   "id": "ff900a7d",
   "metadata": {},
   "outputs": [
    {
     "name": "stdout",
     "output_type": "stream",
     "text": [
      "false\n"
     ]
    }
   ],
   "source": [
    "name = 'dhanush'\n",
    "if name == '4554':\n",
    "    print('true')\n",
    "else:\n",
    "    print('false')"
   ]
  },
  {
   "cell_type": "code",
   "execution_count": 30,
   "id": "64fd7bcb",
   "metadata": {},
   "outputs": [
    {
     "name": "stdout",
     "output_type": "stream",
     "text": [
      "true\n"
     ]
    }
   ],
   "source": [
    "name = 'dhanush'\n",
    "if name == '4554':\n",
    "    print('true')\n",
    "elif name == 'dhanush':\n",
    "    print('true')\n",
    "else:\n",
    "    print('false')"
   ]
  },
  {
   "cell_type": "markdown",
   "id": "e39c53a0",
   "metadata": {},
   "source": [
    "### Loops"
   ]
  },
  {
   "cell_type": "code",
   "execution_count": 42,
   "id": "725024b0",
   "metadata": {},
   "outputs": [
    {
     "name": "stdout",
     "output_type": "stream",
     "text": [
      "abc\n",
      "def\n",
      "ghi\n",
      "true\n",
      "end of for loop\n"
     ]
    }
   ],
   "source": [
    "names = ['abc', 'def', 'ghi', 'dhanush']\n",
    "for name in names:\n",
    "    print(name)\n",
    "    if name == 'ghi' :\n",
    "        print('true')\n",
    "        break #dhanush will not be printed\n",
    "print('end of for loop')"
   ]
  },
  {
   "cell_type": "markdown",
   "id": "1bbb51c9",
   "metadata": {},
   "source": [
    "*note: break, continue and pass statements"
   ]
  },
  {
   "cell_type": "code",
   "execution_count": 51,
   "id": "32d1cba5",
   "metadata": {},
   "outputs": [
    {
     "name": "stdout",
     "output_type": "stream",
     "text": [
      "my_name 1\n",
      "my_name 2\n",
      "my_name 3\n",
      "my_name 4\n",
      "my_name 5\n",
      "end\n"
     ]
    }
   ],
   "source": [
    "#while loop\n",
    "cnt = 1\n",
    "ref = 5\n",
    "while True:\n",
    "    print('my_name {}'.format(cnt))\n",
    "    if cnt == ref:\n",
    "        print('end')\n",
    "        break\n",
    "    cnt+=1\n",
    "    "
   ]
  },
  {
   "cell_type": "markdown",
   "id": "dc43fd6e",
   "metadata": {},
   "source": [
    "------------------------------------------------------------"
   ]
  }
 ],
 "metadata": {
  "kernelspec": {
   "display_name": "Python 3 (ipykernel)",
   "language": "python",
   "name": "python3"
  },
  "language_info": {
   "codemirror_mode": {
    "name": "ipython",
    "version": 3
   },
   "file_extension": ".py",
   "mimetype": "text/x-python",
   "name": "python",
   "nbconvert_exporter": "python",
   "pygments_lexer": "ipython3",
   "version": "3.11.5"
  }
 },
 "nbformat": 4,
 "nbformat_minor": 5
}
