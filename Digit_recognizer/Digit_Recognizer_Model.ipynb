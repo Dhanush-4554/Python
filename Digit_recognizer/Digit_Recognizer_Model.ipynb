{
 "cells": [
  {
   "cell_type": "markdown",
   "id": "be5e9543",
   "metadata": {},
   "source": [
    "# NEURAL NETWORKS "
   ]
  },
  {
   "cell_type": "markdown",
   "id": "b76fb9fa",
   "metadata": {},
   "source": [
    "this is a machine learning model based on neural network to revcognise the handwritten digits"
   ]
  },
  {
   "cell_type": "code",
   "execution_count": 4,
   "id": "61e5f606",
   "metadata": {},
   "outputs": [],
   "source": [
    "import numpy as np\n",
    "import pandas as pd\n",
    "from matplotlib import pyplot as plt\n",
    "\n",
    "data = pd.read_csv('./train.csv')"
   ]
  },
  {
   "cell_type": "code",
   "execution_count": 5,
   "id": "25859175",
   "metadata": {},
   "outputs": [],
   "source": [
    "data = np.array(data)\n",
    "m, n = data.shape\n",
    "np.random.shuffle(data) # shuffle before splitting into dev and training sets\n",
    "\n",
    "data_dev = data[0:1000].T\n",
    "Y_dev = data_dev[0]\n",
    "X_dev = data_dev[1:n]\n",
    "X_dev = X_dev / 255.\n",
    "\n",
    "data_train = data[1000:m].T\n",
    "Y_train = data_train[0]\n",
    "X_train = data_train[1:n]\n",
    "X_train = X_train / 255.\n",
    "_,m_train = X_train.shape"
   ]
  },
  {
   "cell_type": "code",
   "execution_count": 6,
   "id": "d1d752a1",
   "metadata": {},
   "outputs": [
    {
     "data": {
      "text/plain": [
       "array([3, 7, 1, ..., 2, 5, 4], dtype=int64)"
      ]
     },
     "execution_count": 6,
     "metadata": {},
     "output_type": "execute_result"
    }
   ],
   "source": [
    "Y_train"
   ]
  },
  {
   "cell_type": "code",
   "execution_count": 8,
   "id": "83e4ee24",
   "metadata": {},
   "outputs": [],
   "source": [
    "def init_params():\n",
    "    W1 = np.random.rand(10, 784) - 0.5\n",
    "    b1 = np.random.rand(10, 1) - 0.5\n",
    "    W2 = np.random.rand(10, 10) - 0.5\n",
    "    b2 = np.random.rand(10, 1) - 0.5\n",
    "    return W1, b1, W2, b2\n",
    "\n",
    "def ReLU(Z):\n",
    "    return np.maximum(Z, 0)\n",
    "\n",
    "def softmax(Z):\n",
    "    A = np.exp(Z) / sum(np.exp(Z))\n",
    "    return A\n",
    "    \n",
    "def forward_prop(W1, b1, W2, b2, X):\n",
    "    Z1 = W1.dot(X) + b1\n",
    "    A1 = ReLU(Z1)\n",
    "    Z2 = W2.dot(A1) + b2\n",
    "    A2 = softmax(Z2)\n",
    "    return Z1, A1, Z2, A2\n",
    "\n",
    "def ReLU_deriv(Z):\n",
    "    return Z > 0\n",
    "def one_hot(Y):\n",
    "    one_hot_Y = np.zeros((Y.size, Y.max() + 1))\n",
    "    one_hot_Y[np.arange(Y.size), Y] = 1\n",
    "    one_hot_Y = one_hot_Y.T\n",
    "    return one_hot_Y\n",
    "\n",
    "def backward_prop(Z1, A1, Z2, A2, W1, W2, X, Y):\n",
    "    one_hot_Y = one_hot(Y)\n",
    "    dZ2 = A2 - one_hot_Y\n",
    "    dW2 = 1 / m * dZ2.dot(A1.T)\n",
    "    db2 = 1 / m * np.sum(dZ2)\n",
    "    dZ1 = W2.T.dot(dZ2) * ReLU_deriv(Z1)\n",
    "    dW1 = 1 / m * dZ1.dot(X.T)\n",
    "    db1 = 1 / m * np.sum(dZ1)\n",
    "    return dW1, db1, dW2, db2\n",
    "\n",
    "def update_params(W1, b1, W2, b2, dW1, db1, dW2, db2, alpha):\n",
    "    W1 = W1 - alpha * dW1\n",
    "    b1 = b1 - alpha * db1    \n",
    "    W2 = W2 - alpha * dW2  \n",
    "    b2 = b2 - alpha * db2    \n",
    "    return W1, b1, W2, b2\n"
   ]
  },
  {
   "cell_type": "code",
   "execution_count": 9,
   "id": "b0148b05",
   "metadata": {},
   "outputs": [],
   "source": [
    "def get_predictions(A2):\n",
    "    return np.argmax(A2, 0)\n",
    "\n",
    "def get_accuracy(predictions, Y):\n",
    "    print(predictions, Y)\n",
    "    return np.sum(predictions == Y) / Y.size\n",
    "\n",
    "def gradient_descent(X, Y, alpha, iterations):\n",
    "    W1, b1, W2, b2 = init_params()\n",
    "    for i in range(iterations):\n",
    "        Z1, A1, Z2, A2 = forward_prop(W1, b1, W2, b2, X)\n",
    "        dW1, db1, dW2, db2 = backward_prop(Z1, A1, Z2, A2, W1, W2, X, Y)\n",
    "        W1, b1, W2, b2 = update_params(W1, b1, W2, b2, dW1, db1, dW2, db2, alpha)\n",
    "        if i % 10 == 0:\n",
    "            print(\"Iteration: \", i)\n",
    "            predictions = get_predictions(A2)\n",
    "            print(get_accuracy(predictions, Y))\n",
    "    return W1, b1, W2, b2"
   ]
  },
  {
   "cell_type": "code",
   "execution_count": 10,
   "id": "84c52b58",
   "metadata": {},
   "outputs": [
    {
     "name": "stdout",
     "output_type": "stream",
     "text": [
      "Iteration:  0\n",
      "[5 8 5 ... 5 5 5] [3 7 1 ... 2 5 4]\n",
      "0.082\n",
      "Iteration:  10\n",
      "[7 8 5 ... 7 4 5] [3 7 1 ... 2 5 4]\n",
      "0.11473170731707318\n",
      "Iteration:  20\n",
      "[7 7 8 ... 2 4 5] [3 7 1 ... 2 5 4]\n",
      "0.1615609756097561\n",
      "Iteration:  30\n",
      "[7 7 8 ... 2 4 5] [3 7 1 ... 2 5 4]\n",
      "0.1958780487804878\n",
      "Iteration:  40\n",
      "[7 7 8 ... 2 4 5] [3 7 1 ... 2 5 4]\n",
      "0.2216829268292683\n",
      "Iteration:  50\n",
      "[4 7 8 ... 2 4 5] [3 7 1 ... 2 5 4]\n",
      "0.24346341463414634\n",
      "Iteration:  60\n",
      "[4 7 8 ... 2 5 1] [3 7 1 ... 2 5 4]\n",
      "0.2753658536585366\n",
      "Iteration:  70\n",
      "[8 7 8 ... 2 5 1] [3 7 1 ... 2 5 4]\n",
      "0.3289268292682927\n",
      "Iteration:  80\n",
      "[8 7 1 ... 2 5 1] [3 7 1 ... 2 5 4]\n",
      "0.39470731707317075\n",
      "Iteration:  90\n",
      "[2 7 1 ... 2 5 1] [3 7 1 ... 2 5 4]\n",
      "0.444\n",
      "Iteration:  100\n",
      "[2 7 1 ... 2 5 1] [3 7 1 ... 2 5 4]\n",
      "0.48509756097560974\n",
      "Iteration:  110\n",
      "[2 7 1 ... 2 5 1] [3 7 1 ... 2 5 4]\n",
      "0.5204146341463415\n",
      "Iteration:  120\n",
      "[2 7 1 ... 2 5 1] [3 7 1 ... 2 5 4]\n",
      "0.5539024390243903\n",
      "Iteration:  130\n",
      "[2 7 1 ... 2 5 1] [3 7 1 ... 2 5 4]\n",
      "0.5856585365853658\n",
      "Iteration:  140\n",
      "[2 7 1 ... 2 5 1] [3 7 1 ... 2 5 4]\n",
      "0.6132439024390244\n",
      "Iteration:  150\n",
      "[2 7 1 ... 2 5 1] [3 7 1 ... 2 5 4]\n",
      "0.6393414634146342\n",
      "Iteration:  160\n",
      "[2 7 1 ... 2 5 4] [3 7 1 ... 2 5 4]\n",
      "0.6612439024390244\n",
      "Iteration:  170\n",
      "[3 7 1 ... 2 5 4] [3 7 1 ... 2 5 4]\n",
      "0.680829268292683\n",
      "Iteration:  180\n",
      "[3 7 1 ... 2 5 4] [3 7 1 ... 2 5 4]\n",
      "0.6976585365853658\n",
      "Iteration:  190\n",
      "[3 7 1 ... 2 5 4] [3 7 1 ... 2 5 4]\n",
      "0.7127317073170731\n",
      "Iteration:  200\n",
      "[3 7 1 ... 2 5 4] [3 7 1 ... 2 5 4]\n",
      "0.7247073170731707\n",
      "Iteration:  210\n",
      "[3 7 1 ... 2 5 4] [3 7 1 ... 2 5 4]\n",
      "0.7359756097560975\n",
      "Iteration:  220\n",
      "[3 7 1 ... 2 5 4] [3 7 1 ... 2 5 4]\n",
      "0.747219512195122\n",
      "Iteration:  230\n",
      "[3 7 1 ... 2 5 4] [3 7 1 ... 2 5 4]\n",
      "0.7562682926829268\n",
      "Iteration:  240\n",
      "[3 7 1 ... 2 5 4] [3 7 1 ... 2 5 4]\n",
      "0.7641219512195122\n",
      "Iteration:  250\n",
      "[3 7 1 ... 2 5 4] [3 7 1 ... 2 5 4]\n",
      "0.7708536585365854\n",
      "Iteration:  260\n",
      "[3 7 1 ... 2 5 4] [3 7 1 ... 2 5 4]\n",
      "0.7768780487804878\n",
      "Iteration:  270\n",
      "[3 7 1 ... 2 5 4] [3 7 1 ... 2 5 4]\n",
      "0.7828048780487805\n",
      "Iteration:  280\n",
      "[3 7 1 ... 2 5 4] [3 7 1 ... 2 5 4]\n",
      "0.7873902439024391\n",
      "Iteration:  290\n",
      "[3 7 1 ... 2 5 4] [3 7 1 ... 2 5 4]\n",
      "0.7919268292682927\n",
      "Iteration:  300\n",
      "[3 7 1 ... 2 5 4] [3 7 1 ... 2 5 4]\n",
      "0.7960731707317074\n",
      "Iteration:  310\n",
      "[3 7 1 ... 2 5 4] [3 7 1 ... 2 5 4]\n",
      "0.800219512195122\n",
      "Iteration:  320\n",
      "[3 7 1 ... 2 5 4] [3 7 1 ... 2 5 4]\n",
      "0.8040731707317074\n",
      "Iteration:  330\n",
      "[3 7 1 ... 2 5 4] [3 7 1 ... 2 5 4]\n",
      "0.8077317073170732\n",
      "Iteration:  340\n",
      "[3 7 1 ... 2 5 4] [3 7 1 ... 2 5 4]\n",
      "0.8108048780487805\n",
      "Iteration:  350\n",
      "[3 7 1 ... 2 5 4] [3 7 1 ... 2 5 4]\n",
      "0.8135121951219512\n",
      "Iteration:  360\n",
      "[3 7 1 ... 2 5 4] [3 7 1 ... 2 5 4]\n",
      "0.8160731707317073\n",
      "Iteration:  370\n",
      "[3 7 1 ... 2 5 4] [3 7 1 ... 2 5 4]\n",
      "0.8182439024390243\n",
      "Iteration:  380\n",
      "[3 7 1 ... 2 5 4] [3 7 1 ... 2 5 4]\n",
      "0.8200731707317073\n",
      "Iteration:  390\n",
      "[3 7 1 ... 2 5 4] [3 7 1 ... 2 5 4]\n",
      "0.8216829268292682\n",
      "Iteration:  400\n",
      "[3 7 1 ... 2 5 4] [3 7 1 ... 2 5 4]\n",
      "0.8235853658536585\n",
      "Iteration:  410\n",
      "[3 7 1 ... 2 5 4] [3 7 1 ... 2 5 4]\n",
      "0.8252682926829268\n",
      "Iteration:  420\n",
      "[3 7 1 ... 2 5 4] [3 7 1 ... 2 5 4]\n",
      "0.8274146341463414\n",
      "Iteration:  430\n",
      "[3 7 1 ... 2 5 4] [3 7 1 ... 2 5 4]\n",
      "0.8290243902439024\n",
      "Iteration:  440\n",
      "[3 7 1 ... 2 5 4] [3 7 1 ... 2 5 4]\n",
      "0.8304146341463414\n",
      "Iteration:  450\n",
      "[3 7 1 ... 2 5 4] [3 7 1 ... 2 5 4]\n",
      "0.8319268292682926\n",
      "Iteration:  460\n",
      "[3 7 1 ... 2 5 4] [3 7 1 ... 2 5 4]\n",
      "0.8335365853658536\n",
      "Iteration:  470\n",
      "[3 7 1 ... 2 5 4] [3 7 1 ... 2 5 4]\n",
      "0.8351219512195122\n",
      "Iteration:  480\n",
      "[3 7 1 ... 2 5 4] [3 7 1 ... 2 5 4]\n",
      "0.8365853658536585\n",
      "Iteration:  490\n",
      "[3 7 1 ... 2 5 4] [3 7 1 ... 2 5 4]\n",
      "0.8376585365853658\n"
     ]
    }
   ],
   "source": [
    "W1, b1, W2, b2 = gradient_descent(X_train, Y_train, 0.10, 500)"
   ]
  },
  {
   "cell_type": "code",
   "execution_count": 11,
   "id": "c5e4c419",
   "metadata": {},
   "outputs": [],
   "source": [
    "def make_predictions(X, W1, b1, W2, b2):\n",
    "    _, _, _, A2 = forward_prop(W1, b1, W2, b2, X)\n",
    "    predictions = get_predictions(A2)\n",
    "    return predictions\n",
    "\n",
    "def test_prediction(index, W1, b1, W2, b2):\n",
    "    current_image = X_train[:, index, None]\n",
    "    prediction = make_predictions(X_train[:, index, None], W1, b1, W2, b2)\n",
    "    label = Y_train[index]\n",
    "    print(\"Prediction: \", prediction)\n",
    "    print(\"Label: \", label)\n",
    "    \n",
    "    current_image = current_image.reshape((28, 28)) * 255\n",
    "    plt.gray()\n",
    "    plt.imshow(current_image, interpolation='nearest')\n",
    "    plt.show()"
   ]
  },
  {
   "cell_type": "code",
   "execution_count": 12,
   "id": "0dcca3ee",
   "metadata": {},
   "outputs": [
    {
     "name": "stdout",
     "output_type": "stream",
     "text": [
      "Prediction:  [3]\n",
      "Label:  3\n"
     ]
    },
    {
     "data": {
      "image/png": "[encoded data removed]",
      "text/plain": [
       "<Figure size 640x480 with 1 Axes>"
      ]
     },
     "metadata": {},
     "output_type": "display_data"
    },
    {
     "name": "stdout",
     "output_type": "stream",
     "text": [
      "Prediction:  [7]\n",
      "Label:  7\n"
     ]
    },
    {
     "data": {
      "image/png": "[encoded data removed]",
      "text/plain": [
       "<Figure size 640x480 with 1 Axes>"
      ]
     },
     "metadata": {},
     "output_type": "display_data"
    },
    {
     "name": "stdout",
     "output_type": "stream",
     "text": [
      "Prediction:  [1]\n",
      "Label:  1\n"
     ]
    },
    {
     "data": {
      "image/png": "[encoded data removed]",
      "text/plain": [
       "<Figure size 640x480 with 1 Axes>"
      ]
     },
     "metadata": {},
     "output_type": "display_data"
    },
    {
     "name": "stdout",
     "output_type": "stream",
     "text": [
      "Prediction:  [4]\n",
      "Label:  4\n"
     ]
    },
    {
     "data": {
      "image/png": "[encoded data removed]",
      "text/plain": [
       "<Figure size 640x480 with 1 Axes>"
      ]
     },
     "metadata": {},
     "output_type": "display_data"
    }
   ],
   "source": [
    "test_prediction(0, W1, b1, W2, b2)\n",
    "test_prediction(1, W1, b1, W2, b2)\n",
    "test_prediction(2, W1, b1, W2, b2)\n",
    "test_prediction(3, W1, b1, W2, b2)"
   ]
  },
  {
   "cell_type": "code",
   "execution_count": 13,
   "id": "fe806263",
   "metadata": {},
   "outputs": [
    {
     "name": "stdout",
     "output_type": "stream",
     "text": [
      "[2 3 5 1 2 2 1 1 0 4 7 7 4 4 8 7 1 3 1 1 7 6 1 4 9 8 0 7 0 6 2 2 6 4 4 0 6\n",
      " 4 4 1 0 8 4 3 3 5 8 0 3 0 2 7 6 3 9 8 1 0 2 2 9 2 7 8 0 5 4 7 8 8 6 2 5 5\n",
      " 2 5 9 8 5 8 8 6 9 8 6 1 4 1 7 2 2 9 1 7 8 0 9 8 8 4 6 6 3 4 3 2 3 7 9 0 3\n",
      " 7 1 9 6 2 7 2 1 3 5 1 3 0 5 6 7 9 9 8 9 8 9 5 1 3 6 9 0 0 9 9 4 5 1 6 9 7\n",
      " 4 4 5 0 8 3 6 6 1 7 1 2 5 3 0 0 3 0 3 4 1 4 7 2 0 8 7 4 7 6 5 0 6 3 4 3 9\n",
      " 2 5 2 5 3 2 7 8 2 6 1 1 6 7 1 5 5 6 1 7 9 8 5 7 7 3 0 0 2 2 3 0 2 3 9 7 3\n",
      " 2 9 7 0 0 7 9 1 0 8 2 2 7 0 9 4 5 2 0 0 1 3 9 4 0 5 1 0 1 3 0 8 0 8 2 5 3\n",
      " 0 6 3 1 8 3 7 2 1 2 8 2 9 3 2 7 4 5 4 1 1 7 0 0 8 2 6 0 2 8 4 4 0 5 9 0 5\n",
      " 9 1 0 5 1 0 4 8 2 4 6 4 2 4 5 4 2 5 6 2 0 3 0 8 9 9 6 7 0 7 2 9 3 4 5 5 2\n",
      " 2 0 3 5 8 3 8 7 7 1 3 6 0 7 9 0 1 6 9 1 6 2 9 0 4 1 1 6 7 7 1 9 5 4 0 4 4\n",
      " 0 4 1 9 8 2 9 3 3 9 5 1 1 6 9 7 2 7 2 3 9 4 3 7 1 8 0 6 2 7 0 7 6 4 1 5 0\n",
      " 3 9 6 8 4 1 8 7 2 5 1 0 9 8 8 1 5 6 5 8 5 1 4 4 2 9 9 6 4 6 3 7 4 1 8 2 8\n",
      " 1 4 0 9 5 8 3 5 9 7 6 3 4 0 2 5 2 2 3 4 0 7 3 0 9 8 6 0 9 7 6 7 4 9 2 5 3\n",
      " 2 6 1 5 2 9 7 0 5 6 1 6 9 2 7 1 9 4 4 5 5 4 1 9 4 5 8 8 8 8 7 3 0 0 3 3 7\n",
      " 8 0 4 5 5 6 2 8 6 1 0 1 7 2 3 5 4 5 1 0 3 7 6 7 1 7 8 2 7 4 4 4 7 8 0 2 5\n",
      " 1 9 1 8 2 9 4 7 2 6 4 4 4 6 4 8 0 8 8 2 7 7 7 5 8 0 3 4 8 6 2 4 6 0 3 7 3\n",
      " 0 3 5 6 3 5 1 2 4 2 2 5 4 3 1 7 7 3 4 5 2 4 9 9 3 7 6 4 1 9 3 5 1 2 6 9 7\n",
      " 1 6 2 4 6 9 8 8 7 4 7 2 4 7 1 0 9 5 3 2 0 9 3 1 2 9 9 9 1 6 8 0 0 1 3 9 4\n",
      " 6 6 1 4 1 5 8 7 2 7 9 9 7 1 3 3 2 1 0 7 6 5 0 4 1 2 3 2 6 4 0 8 8 6 8 9 4\n",
      " 7 4 9 1 0 7 6 4 0 0 2 6 0 8 9 7 7 9 5 5 1 1 2 0 8 9 5 1 4 5 4 8 0 0 5 6 5\n",
      " 3 1 4 5 4 0 7 4 8 7 2 6 3 2 8 7 4 6 2 2 8 7 4 8 1 4 3 7 6 7 1 6 7 3 3 9 3\n",
      " 9 7 0 4 4 2 9 6 7 5 7 9 3 0 0 1 3 1 9 0 4 4 1 6 6 2 3 7 7 8 8 0 2 1 3 2 5\n",
      " 0 1 3 7 0 0 3 1 1 5 9 6 8 2 1 8 9 3 7 5 3 2 1 5 0 1 5 1 0 0 4 2 2 2 3 2 1\n",
      " 1 8 1 1 7 4 7 9 3 9 2 9 5 8 0 4 8 7 9 6 1 3 9 3 1 3 5 2 2 0 1 8 0 7 5 3 3\n",
      " 3 0 3 2 4 0 2 9 6 7 4 4 4 1 8 6 4 3 3 6 1 5 6 6 0 9 2 0 7 1 5 5 2 3 5 4 3\n",
      " 8 2 5 6 3 0 1 0 1 5 9 7 5 0 7 2 7 0 3 5 9 1 7 4 8 8 4 7 9 0 1 7 9 6 3 3 8\n",
      " 7 1 7 8 7 5 4 7 7 9 9 8 5 0 6 8 9 6 0 1 9 1 0 2 8 7 3 4 9 6 3 6 2 1 8 9 4\n",
      " 6] [2 3 3 1 2 2 1 1 0 4 7 7 4 4 8 7 1 3 1 2 7 6 1 4 9 8 0 7 0 6 2 2 6 9 4 0 6\n",
      " 6 4 1 0 8 4 3 3 5 8 0 3 0 2 7 6 3 9 8 1 0 2 2 7 2 9 8 0 5 4 7 8 8 6 2 5 5\n",
      " 6 5 9 8 5 8 8 6 9 8 6 1 4 4 7 2 8 4 1 7 1 5 9 8 8 9 6 6 3 4 3 2 1 7 4 0 3\n",
      " 7 1 9 6 2 7 2 1 3 5 1 8 0 5 6 7 5 4 8 9 4 9 5 1 2 6 9 0 0 9 4 1 5 1 6 7 7\n",
      " 4 4 5 8 8 3 2 6 1 7 1 3 5 3 0 0 3 0 3 4 1 4 7 2 0 8 7 4 7 6 5 2 6 3 4 3 4\n",
      " 2 5 2 5 3 2 2 8 3 6 1 1 6 7 1 5 5 6 1 7 8 8 0 7 7 3 0 0 2 6 3 0 2 3 9 7 3\n",
      " 2 9 7 6 0 7 4 1 0 8 2 2 7 0 9 4 5 2 0 0 1 3 9 9 7 5 1 0 1 3 0 8 0 8 2 5 3\n",
      " 5 6 5 1 8 3 7 2 1 3 8 2 9 1 2 7 4 3 4 1 1 7 0 0 8 8 6 0 2 8 4 4 0 5 9 0 5\n",
      " 9 1 0 5 1 0 4 8 2 4 6 4 2 4 5 4 2 5 6 2 0 8 0 8 9 9 5 7 0 7 2 9 2 4 5 5 2\n",
      " 2 0 3 5 8 3 8 7 7 1 3 6 0 7 4 0 1 6 9 1 6 2 9 0 9 1 1 6 9 7 1 9 5 4 0 4 4\n",
      " 0 4 1 9 8 2 9 3 3 9 5 6 1 6 9 7 2 7 2 5 9 4 3 4 1 8 0 6 2 2 0 7 6 4 1 8 0\n",
      " 3 9 6 8 4 1 8 7 3 6 1 0 9 8 8 1 3 9 5 8 5 1 4 9 2 7 9 6 4 6 8 7 9 1 8 2 8\n",
      " 1 4 0 4 3 8 1 5 9 7 6 3 4 0 2 5 2 2 3 4 0 7 8 0 9 8 6 0 9 7 2 7 4 4 2 5 3\n",
      " 2 6 1 5 2 9 7 0 5 6 1 6 7 2 9 1 8 4 9 5 5 4 1 9 4 5 8 8 2 5 7 3 0 0 5 3 7\n",
      " 8 0 4 5 5 6 2 8 6 1 0 1 7 2 3 5 6 5 1 9 5 7 6 7 1 7 8 2 7 4 9 9 7 8 5 2 5\n",
      " 1 9 3 8 2 9 4 7 2 6 4 4 4 6 4 8 0 8 8 2 7 7 9 4 8 0 3 4 2 6 2 9 6 0 3 9 3\n",
      " 0 5 5 6 3 5 1 2 4 3 2 5 4 3 6 7 7 3 4 3 7 4 9 7 3 7 6 4 1 7 3 5 1 2 6 9 7\n",
      " 1 6 2 3 4 9 8 2 9 9 7 2 4 7 1 0 9 8 3 3 0 8 8 1 2 4 9 9 1 6 8 0 0 1 5 9 4\n",
      " 6 6 1 4 1 6 8 7 2 7 4 7 7 1 3 3 2 1 0 7 6 5 0 9 1 2 9 2 6 4 0 5 8 6 8 7 9\n",
      " 7 4 9 5 0 7 6 4 0 0 2 6 0 4 9 2 7 9 5 5 1 1 2 0 8 9 3 1 4 5 5 8 0 0 0 6 5\n",
      " 3 1 4 5 4 0 7 4 8 3 7 4 3 2 8 7 4 6 2 2 6 7 4 8 1 4 3 7 6 7 1 6 7 3 7 9 0\n",
      " 4 7 9 4 4 7 9 6 7 5 7 9 3 0 0 1 3 1 9 0 4 7 1 6 6 2 3 7 7 8 8 0 2 1 3 2 5\n",
      " 0 1 5 7 0 0 3 1 1 0 9 6 8 0 1 8 9 3 7 3 3 2 1 1 0 1 5 1 0 0 9 5 2 3 9 2 1\n",
      " 1 8 1 1 7 4 7 9 3 4 2 7 5 9 0 4 8 7 9 6 1 3 9 5 1 2 5 2 2 0 1 5 0 4 8 3 3\n",
      " 3 3 3 7 4 0 1 9 6 9 4 4 4 1 8 6 4 3 3 6 1 8 6 6 0 9 4 0 7 1 5 5 8 3 5 2 3\n",
      " 8 2 5 6 3 0 1 0 1 5 9 7 3 0 7 4 7 0 3 5 4 1 7 6 1 8 4 7 7 0 1 7 9 3 8 3 8\n",
      " 7 1 7 8 7 5 9 7 7 7 9 8 5 0 6 8 9 6 0 1 9 1 0 5 8 7 5 4 9 6 3 6 2 1 8 7 4\n",
      " 6]\n"
     ]
    },
    {
     "data": {
      "text/plain": [
       "0.833"
      ]
     },
     "execution_count": 13,
     "metadata": {},
     "output_type": "execute_result"
    }
   ],
   "source": [
    "dev_predictions = make_predictions(X_dev, W1, b1, W2, b2)\n",
    "get_accuracy(dev_predictions, Y_dev)"
   ]
  },
  {
   "cell_type": "code",
   "execution_count": null,
   "id": "6eca151a",
   "metadata": {},
   "outputs": [],
   "source": []
  }
 ],
 "metadata": {
  "kernelspec": {
   "display_name": "Python 3 (ipykernel)",
   "language": "python",
   "name": "python3"
  },
  "language_info": {
   "codemirror_mode": {
    "name": "ipython",
    "version": 3
   },
   "file_extension": ".py",
   "mimetype": "text/x-python",
   "name": "python",
   "nbconvert_exporter": "python",
   "pygments_lexer": "ipython3",
   "version": "3.11.5"
  }
 },
 "nbformat": 4,
 "nbformat_minor": 5
}
