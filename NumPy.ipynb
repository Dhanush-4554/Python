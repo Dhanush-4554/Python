{
 "cells": [
  {
   "cell_type": "markdown",
   "id": "c0ea7ab0",
   "metadata": {},
   "source": [
    "## NUMPY"
   ]
  },
  {
   "cell_type": "code",
   "execution_count": 2,
   "id": "57c6062d",
   "metadata": {},
   "outputs": [
    {
     "name": "stdout",
     "output_type": "stream",
     "text": [
      "Defaulting to user installation because normal site-packages is not writeable\n",
      "Requirement already satisfied: numpy in c:\\programdata\\anaconda3\\lib\\site-packages (1.24.3)\n"
     ]
    }
   ],
   "source": [
    "!pip install numpy"
   ]
  },
  {
   "cell_type": "code",
   "execution_count": 3,
   "id": "03e44e9e",
   "metadata": {},
   "outputs": [],
   "source": [
    "import numpy as np"
   ]
  },
  {
   "cell_type": "markdown",
   "id": "5f49b505",
   "metadata": {},
   "source": [
    "## CRUD"
   ]
  },
  {
   "cell_type": "markdown",
   "id": "a6829604",
   "metadata": {},
   "source": [
    "### 1.CREATE"
   ]
  },
  {
   "cell_type": "code",
   "execution_count": 6,
   "id": "ebaae1b7",
   "metadata": {},
   "outputs": [],
   "source": [
    "data = np.random.rand(2,3,4)\n",
    "zeroes = np.zeros((2,2,2))\n",
    "full = np.full((2,2,2), 7)\n",
    "ones = np.ones((2,2,2))"
   ]
  },
  {
   "cell_type": "code",
   "execution_count": 7,
   "id": "dd622182",
   "metadata": {},
   "outputs": [
    {
     "data": {
      "text/plain": [
       "array([[[0.04997711, 0.4050585 , 0.37123641, 0.6129778 ],\n",
       "        [0.9045276 , 0.64988967, 0.16415951, 0.64709736],\n",
       "        [0.26350537, 0.33293361, 0.69169561, 0.15045996]],\n",
       "\n",
       "       [[0.69129472, 0.58111035, 0.45910475, 0.23468081],\n",
       "        [0.69373311, 0.52110853, 0.7899112 , 0.98755271],\n",
       "        [0.47544296, 0.87181724, 0.86371062, 0.14978569]]])"
      ]
     },
     "execution_count": 7,
     "metadata": {},
     "output_type": "execute_result"
    }
   ],
   "source": [
    "data"
   ]
  },
  {
   "cell_type": "code",
   "execution_count": 8,
   "id": "700b6c65",
   "metadata": {},
   "outputs": [
    {
     "data": {
      "text/plain": [
       "array([[[0., 0.],\n",
       "        [0., 0.]],\n",
       "\n",
       "       [[0., 0.],\n",
       "        [0., 0.]]])"
      ]
     },
     "execution_count": 8,
     "metadata": {},
     "output_type": "execute_result"
    }
   ],
   "source": [
    "zeroes"
   ]
  },
  {
   "cell_type": "code",
   "execution_count": 9,
   "id": "92a0d67d",
   "metadata": {},
   "outputs": [
    {
     "data": {
      "text/plain": [
       "array([[[7, 7],\n",
       "        [7, 7]],\n",
       "\n",
       "       [[7, 7],\n",
       "        [7, 7]]])"
      ]
     },
     "execution_count": 9,
     "metadata": {},
     "output_type": "execute_result"
    }
   ],
   "source": [
    "full"
   ]
  },
  {
   "cell_type": "code",
   "execution_count": 10,
   "id": "c410f85a",
   "metadata": {},
   "outputs": [
    {
     "data": {
      "text/plain": [
       "array([[[1., 1.],\n",
       "        [1., 1.]],\n",
       "\n",
       "       [[1., 1.],\n",
       "        [1., 1.]]])"
      ]
     },
     "execution_count": 10,
     "metadata": {},
     "output_type": "execute_result"
    }
   ],
   "source": [
    "ones"
   ]
  },
  {
   "cell_type": "code",
   "execution_count": 12,
   "id": "8bfccdb2",
   "metadata": {},
   "outputs": [],
   "source": [
    "arr = np.array([[1,2,3,4],[1,2,3,4,]])"
   ]
  },
  {
   "cell_type": "code",
   "execution_count": 13,
   "id": "c7fd0b34",
   "metadata": {},
   "outputs": [
    {
     "data": {
      "text/plain": [
       "array([[1, 2, 3, 4],\n",
       "       [1, 2, 3, 4]])"
      ]
     },
     "execution_count": 13,
     "metadata": {},
     "output_type": "execute_result"
    }
   ],
   "source": [
    "arr"
   ]
  },
  {
   "cell_type": "code",
   "execution_count": 14,
   "id": "6e0f13f1",
   "metadata": {},
   "outputs": [
    {
     "data": {
      "text/plain": [
       "numpy.ndarray"
      ]
     },
     "execution_count": 14,
     "metadata": {},
     "output_type": "execute_result"
    }
   ],
   "source": [
    "type(arr)"
   ]
  },
  {
   "cell_type": "markdown",
   "id": "f188ea09",
   "metadata": {},
   "source": [
    "### 2.READ"
   ]
  },
  {
   "cell_type": "code",
   "execution_count": 15,
   "id": "ba2718b1",
   "metadata": {},
   "outputs": [],
   "source": [
    "# attributes\n",
    "shape = data.shape\n",
    "size = data.size\n",
    "types = data.dtype"
   ]
  },
  {
   "cell_type": "code",
   "execution_count": 16,
   "id": "24cfcb80",
   "metadata": {},
   "outputs": [
    {
     "data": {
      "text/plain": [
       "24"
      ]
     },
     "execution_count": 16,
     "metadata": {},
     "output_type": "execute_result"
    }
   ],
   "source": [
    "size"
   ]
  },
  {
   "cell_type": "code",
   "execution_count": 17,
   "id": "68d1edc2",
   "metadata": {},
   "outputs": [
    {
     "data": {
      "text/plain": [
       "(2, 3, 4)"
      ]
     },
     "execution_count": 17,
     "metadata": {},
     "output_type": "execute_result"
    }
   ],
   "source": [
    "shape"
   ]
  },
  {
   "cell_type": "code",
   "execution_count": 18,
   "id": "d176a71c",
   "metadata": {},
   "outputs": [
    {
     "data": {
      "text/plain": [
       "dtype('float64')"
      ]
     },
     "execution_count": 18,
     "metadata": {},
     "output_type": "execute_result"
    }
   ],
   "source": [
    "types"
   ]
  },
  {
   "cell_type": "code",
   "execution_count": 25,
   "id": "70e79f5d",
   "metadata": {},
   "outputs": [],
   "source": [
    "# slicing\n",
    "arr = data[0]\n",
    "slicer = data[0][0:2]\n",
    "reverse = data[-1]\n",
    "singleval = data[0][0][0]"
   ]
  },
  {
   "cell_type": "code",
   "execution_count": 20,
   "id": "a6349d4e",
   "metadata": {},
   "outputs": [
    {
     "data": {
      "text/plain": [
       "array([[0.04997711, 0.4050585 , 0.37123641, 0.6129778 ],\n",
       "       [0.9045276 , 0.64988967, 0.16415951, 0.64709736],\n",
       "       [0.26350537, 0.33293361, 0.69169561, 0.15045996]])"
      ]
     },
     "execution_count": 20,
     "metadata": {},
     "output_type": "execute_result"
    }
   ],
   "source": [
    "arr"
   ]
  },
  {
   "cell_type": "code",
   "execution_count": 24,
   "id": "1243e2eb",
   "metadata": {},
   "outputs": [
    {
     "data": {
      "text/plain": [
       "array([[0.04997711, 0.4050585 , 0.37123641, 0.6129778 ],\n",
       "       [0.9045276 , 0.64988967, 0.16415951, 0.64709736]])"
      ]
     },
     "execution_count": 24,
     "metadata": {},
     "output_type": "execute_result"
    }
   ],
   "source": [
    "slicer"
   ]
  },
  {
   "cell_type": "code",
   "execution_count": 22,
   "id": "33a22f14",
   "metadata": {},
   "outputs": [
    {
     "data": {
      "text/plain": [
       "0.04997710513575804"
      ]
     },
     "execution_count": 22,
     "metadata": {},
     "output_type": "execute_result"
    }
   ],
   "source": [
    "singleval"
   ]
  },
  {
   "cell_type": "markdown",
   "id": "075b27b0",
   "metadata": {},
   "source": [
    "### 3.UPDATE"
   ]
  },
  {
   "cell_type": "code",
   "execution_count": 26,
   "id": "03908481",
   "metadata": {},
   "outputs": [],
   "source": [
    "list1 = np.random.rand(10)\n",
    "list2 = np.random.rand(10)"
   ]
  },
  {
   "cell_type": "code",
   "execution_count": 27,
   "id": "b7383d73",
   "metadata": {},
   "outputs": [
    {
     "data": {
      "text/plain": [
       "array([0.28096158, 0.79576028, 0.01156591, 0.25210198, 0.88265652,\n",
       "       0.0129592 , 0.40142157, 0.67444778, 0.27580073, 0.26751696])"
      ]
     },
     "execution_count": 27,
     "metadata": {},
     "output_type": "execute_result"
    }
   ],
   "source": [
    "list1"
   ]
  },
  {
   "cell_type": "code",
   "execution_count": 28,
   "id": "5804b82f",
   "metadata": {},
   "outputs": [
    {
     "data": {
      "text/plain": [
       "array([0.78151438, 0.8648487 , 0.03309568, 0.87384922, 0.08190584,\n",
       "       0.59633579, 0.004221  , 0.57563487, 0.9786256 , 0.58682148])"
      ]
     },
     "execution_count": 28,
     "metadata": {},
     "output_type": "execute_result"
    }
   ],
   "source": [
    "list2"
   ]
  },
  {
   "cell_type": "code",
   "execution_count": 29,
   "id": "feea40c5",
   "metadata": {},
   "outputs": [],
   "source": [
    "# basic math\n",
    "add = np.add(list1, list2)\n",
    "sub = np.subtract(list1, list2)\n",
    "mul = np.multiply(list1, list2)\n",
    "div = np.divide(list1, list2)\n",
    "dot = np.dot(list1, list2)"
   ]
  },
  {
   "cell_type": "code",
   "execution_count": 30,
   "id": "fa09e099",
   "metadata": {},
   "outputs": [
    {
     "data": {
      "text/plain": [
       "array([1.06247596, 1.66060898, 0.04466159, 1.12595121, 0.96456236,\n",
       "       0.60929499, 0.40564257, 1.25008265, 1.25442633, 0.85433844])"
      ]
     },
     "execution_count": 30,
     "metadata": {},
     "output_type": "execute_result"
    }
   ],
   "source": [
    "add"
   ]
  },
  {
   "cell_type": "code",
   "execution_count": 31,
   "id": "478f294a",
   "metadata": {},
   "outputs": [
    {
     "data": {
      "text/plain": [
       "array([-0.5005528 , -0.06908842, -0.02152977, -0.62174724,  0.80075069,\n",
       "       -0.58337659,  0.39720058,  0.09881291, -0.70282487, -0.31930453])"
      ]
     },
     "execution_count": 31,
     "metadata": {},
     "output_type": "execute_result"
    }
   ],
   "source": [
    "sub"
   ]
  },
  {
   "cell_type": "code",
   "execution_count": 32,
   "id": "090d6dbf",
   "metadata": {},
   "outputs": [
    {
     "data": {
      "text/plain": [
       "array([2.19575516e-01, 6.88212240e-01, 3.82781712e-04, 2.20299123e-01,\n",
       "       7.22947222e-02, 7.72803240e-03, 1.69439869e-03, 3.88235658e-01,\n",
       "       2.69905659e-01, 1.56984697e-01])"
      ]
     },
     "execution_count": 32,
     "metadata": {},
     "output_type": "execute_result"
    }
   ],
   "source": [
    "mul"
   ]
  },
  {
   "cell_type": "code",
   "execution_count": 33,
   "id": "451357e8",
   "metadata": {},
   "outputs": [
    {
     "data": {
      "text/plain": [
       "array([3.59509164e-01, 9.20115024e-01, 3.49468908e-01, 2.88495976e-01,\n",
       "       1.07764788e+01, 2.17313740e-02, 9.51011594e+01, 1.17165901e+00,\n",
       "       2.81824565e-01, 4.55874512e-01])"
      ]
     },
     "execution_count": 33,
     "metadata": {},
     "output_type": "execute_result"
    }
   ],
   "source": [
    "div"
   ]
  },
  {
   "cell_type": "code",
   "execution_count": 34,
   "id": "ceac3460",
   "metadata": {},
   "outputs": [
    {
     "data": {
      "text/plain": [
       "2.025312826560354"
      ]
     },
     "execution_count": 34,
     "metadata": {},
     "output_type": "execute_result"
    }
   ],
   "source": [
    "dot"
   ]
  },
  {
   "cell_type": "code",
   "execution_count": 36,
   "id": "0fee4c48",
   "metadata": {},
   "outputs": [],
   "source": [
    "# SAPLEMM\n",
    "# sqrt, abs, power, log, exp, min, max\n",
    "sqrt = np.sqrt(25)\n",
    "ab = np.abs(-1)\n",
    "power = np.power(2,7)\n",
    "log = np.log(25)\n",
    "exp = np.exp([2,3])\n",
    "mins = np.min(list1)\n",
    "maxi = np.max(list1)"
   ]
  },
  {
   "cell_type": "code",
   "execution_count": 37,
   "id": "75141e07",
   "metadata": {},
   "outputs": [
    {
     "data": {
      "text/plain": [
       "5.0"
      ]
     },
     "execution_count": 37,
     "metadata": {},
     "output_type": "execute_result"
    }
   ],
   "source": [
    "sqrt"
   ]
  },
  {
   "cell_type": "code",
   "execution_count": 38,
   "id": "0d52938d",
   "metadata": {},
   "outputs": [
    {
     "data": {
      "text/plain": [
       "1"
      ]
     },
     "execution_count": 38,
     "metadata": {},
     "output_type": "execute_result"
    }
   ],
   "source": [
    "ab"
   ]
  },
  {
   "cell_type": "code",
   "execution_count": 39,
   "id": "d33db26c",
   "metadata": {},
   "outputs": [
    {
     "data": {
      "text/plain": [
       "array([[[0.04997711, 0.4050585 , 0.37123641, 0.6129778 ],\n",
       "        [0.9045276 , 0.64988967, 0.16415951, 0.64709736],\n",
       "        [0.26350537, 0.33293361, 0.69169561, 0.15045996]],\n",
       "\n",
       "       [[0.69129472, 0.58111035, 0.45910475, 0.23468081],\n",
       "        [0.69373311, 0.52110853, 0.7899112 , 0.98755271],\n",
       "        [0.47544296, 0.87181724, 0.86371062, 0.14978569]]])"
      ]
     },
     "execution_count": 39,
     "metadata": {},
     "output_type": "execute_result"
    }
   ],
   "source": [
    "data"
   ]
  },
  {
   "cell_type": "code",
   "execution_count": 40,
   "id": "ca2375dc",
   "metadata": {},
   "outputs": [],
   "source": [
    "data[0][0][0] = 2"
   ]
  },
  {
   "cell_type": "code",
   "execution_count": 41,
   "id": "de89a30d",
   "metadata": {},
   "outputs": [
    {
     "data": {
      "text/plain": [
       "array([[[2.        , 0.4050585 , 0.37123641, 0.6129778 ],\n",
       "        [0.9045276 , 0.64988967, 0.16415951, 0.64709736],\n",
       "        [0.26350537, 0.33293361, 0.69169561, 0.15045996]],\n",
       "\n",
       "       [[0.69129472, 0.58111035, 0.45910475, 0.23468081],\n",
       "        [0.69373311, 0.52110853, 0.7899112 , 0.98755271],\n",
       "        [0.47544296, 0.87181724, 0.86371062, 0.14978569]]])"
      ]
     },
     "execution_count": 41,
     "metadata": {},
     "output_type": "execute_result"
    }
   ],
   "source": [
    "data"
   ]
  },
  {
   "cell_type": "code",
   "execution_count": 42,
   "id": "2ad0c20a",
   "metadata": {},
   "outputs": [
    {
     "data": {
      "text/plain": [
       "array([[[0.37123641, 0.4050585 , 0.6129778 , 2.        ],\n",
       "        [0.16415951, 0.64709736, 0.64988967, 0.9045276 ],\n",
       "        [0.15045996, 0.26350537, 0.33293361, 0.69169561]],\n",
       "\n",
       "       [[0.23468081, 0.45910475, 0.58111035, 0.69129472],\n",
       "        [0.52110853, 0.69373311, 0.7899112 , 0.98755271],\n",
       "        [0.14978569, 0.47544296, 0.86371062, 0.87181724]]])"
      ]
     },
     "execution_count": 42,
     "metadata": {},
     "output_type": "execute_result"
    }
   ],
   "source": [
    "data.sort()\n",
    "data"
   ]
  },
  {
   "cell_type": "code",
   "execution_count": 43,
   "id": "1e03d179",
   "metadata": {},
   "outputs": [
    {
     "name": "stdout",
     "output_type": "stream",
     "text": [
      "(2, 3, 4)\n"
     ]
    }
   ],
   "source": [
    "print(data.shape)"
   ]
  },
  {
   "cell_type": "code",
   "execution_count": 44,
   "id": "ea1d9c5c",
   "metadata": {},
   "outputs": [],
   "source": [
    "data = data.reshape(2,2,-1)"
   ]
  },
  {
   "cell_type": "code",
   "execution_count": 45,
   "id": "f788c38f",
   "metadata": {},
   "outputs": [
    {
     "name": "stdout",
     "output_type": "stream",
     "text": [
      "(2, 2, 6)\n"
     ]
    }
   ],
   "source": [
    "print(data.shape)"
   ]
  },
  {
   "cell_type": "code",
   "execution_count": 48,
   "id": "74db7ed6",
   "metadata": {},
   "outputs": [
    {
     "name": "stdout",
     "output_type": "stream",
     "text": [
      "[0. 0. 0. 0. 0. 0.]\n",
      "[0. 0. 0. 0. 0. 0. 2. 3.]\n"
     ]
    }
   ],
   "source": [
    "# append\n",
    "zeroArr = np.zeros((6))\n",
    "print(zeroArr)\n",
    "zeroArr = np.append(zeroArr, [2,3])\n",
    "print(zeroArr)"
   ]
  },
  {
   "cell_type": "code",
   "execution_count": 49,
   "id": "d1bc7d7b",
   "metadata": {},
   "outputs": [
    {
     "name": "stdout",
     "output_type": "stream",
     "text": [
      "[0. 0. 0. 6. 0. 0. 0. 2. 3.]\n"
     ]
    }
   ],
   "source": [
    "#insert\n",
    "zeroArr = np.insert(zeroArr, 3, 6)\n",
    "print(zeroArr)"
   ]
  },
  {
   "cell_type": "markdown",
   "id": "c47470b0",
   "metadata": {},
   "source": [
    "### 4.DELETE"
   ]
  },
  {
   "cell_type": "code",
   "execution_count": 50,
   "id": "db65b63d",
   "metadata": {},
   "outputs": [
    {
     "data": {
      "text/plain": [
       "array([[[0.37123641, 0.4050585 , 0.6129778 , 2.        , 0.16415951,\n",
       "         0.64709736],\n",
       "        [0.64988967, 0.9045276 , 0.15045996, 0.26350537, 0.33293361,\n",
       "         0.69169561]],\n",
       "\n",
       "       [[0.23468081, 0.45910475, 0.58111035, 0.69129472, 0.52110853,\n",
       "         0.69373311],\n",
       "        [0.7899112 , 0.98755271, 0.14978569, 0.47544296, 0.86371062,\n",
       "         0.87181724]]])"
      ]
     },
     "execution_count": 50,
     "metadata": {},
     "output_type": "execute_result"
    }
   ],
   "source": [
    "data "
   ]
  },
  {
   "cell_type": "code",
   "execution_count": 51,
   "id": "f8f4553c",
   "metadata": {},
   "outputs": [
    {
     "data": {
      "text/plain": [
       "array([[[0.64988967, 0.9045276 , 0.15045996, 0.26350537, 0.33293361,\n",
       "         0.69169561]],\n",
       "\n",
       "       [[0.7899112 , 0.98755271, 0.14978569, 0.47544296, 0.86371062,\n",
       "         0.87181724]]])"
      ]
     },
     "execution_count": 51,
     "metadata": {},
     "output_type": "execute_result"
    }
   ],
   "source": [
    "np.delete(data, 0, axis=1)"
   ]
  },
  {
   "cell_type": "code",
   "execution_count": 52,
   "id": "95982894",
   "metadata": {},
   "outputs": [],
   "source": [
    "np.save('new array', data)"
   ]
  },
  {
   "cell_type": "code",
   "execution_count": 53,
   "id": "90eea9c5",
   "metadata": {},
   "outputs": [],
   "source": [
    "test = np.load('new array.npy')"
   ]
  },
  {
   "cell_type": "code",
   "execution_count": 54,
   "id": "1c7c9f4e",
   "metadata": {},
   "outputs": [
    {
     "data": {
      "text/plain": [
       "array([[[0.37123641, 0.4050585 , 0.6129778 , 2.        , 0.16415951,\n",
       "         0.64709736],\n",
       "        [0.64988967, 0.9045276 , 0.15045996, 0.26350537, 0.33293361,\n",
       "         0.69169561]],\n",
       "\n",
       "       [[0.23468081, 0.45910475, 0.58111035, 0.69129472, 0.52110853,\n",
       "         0.69373311],\n",
       "        [0.7899112 , 0.98755271, 0.14978569, 0.47544296, 0.86371062,\n",
       "         0.87181724]]])"
      ]
     },
     "execution_count": 54,
     "metadata": {},
     "output_type": "execute_result"
    }
   ],
   "source": [
    "test"
   ]
  },
  {
   "cell_type": "markdown",
   "id": "99fc12ef",
   "metadata": {},
   "source": [
    "# END"
   ]
  }
 ],
 "metadata": {
  "kernelspec": {
   "display_name": "Python 3 (ipykernel)",
   "language": "python",
   "name": "python3"
  },
  "language_info": {
   "codemirror_mode": {
    "name": "ipython",
    "version": 3
   },
   "file_extension": ".py",
   "mimetype": "text/x-python",
   "name": "python",
   "nbconvert_exporter": "python",
   "pygments_lexer": "ipython3",
   "version": "3.11.5"
  }
 },
 "nbformat": 4,
 "nbformat_minor": 5
}
